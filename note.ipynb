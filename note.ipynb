{
 "cells": [
  {
   "attachments": {},
   "cell_type": "markdown",
   "metadata": {},
   "source": [
    "# Mujoco学习笔记\n",
    "## 总览"
   ]
  },
  {
   "attachments": {},
   "cell_type": "markdown",
   "metadata": {},
   "source": [
    "### 新的变化\n",
    "`MuJoCo`已经开源，可以直接通过pip安装\n",
    "```\n",
    "pip install mujoco\n",
    "```\n",
    "> 注意：mujoco安装方式的变化\n",
    "- `mujoco_py`和`mjpro150`或者`mjpro210`啥的都成为历史了(参考:https://github.com/deepmind/mujoco/issues/347)\n",
    "- 为了更方便使用`MuJoCo`可以安装`dm_control`，这也是官方教程中推荐的使用方式\n",
    "```\n",
    "pip install dm_control\n",
    "```"
   ]
  },
  {
   "attachments": {},
   "cell_type": "markdown",
   "metadata": {},
   "source": [
    "### 如何学习\n",
    "- 官方jupyter教程：\n",
    "    - [mujoco原生python支持](https://github.com/deepmind/dm_control/blob/main/tutorial.ipynb)\n",
    "    - [dm_control教程](https://github.com/deepmind/mujoco/blob/main/python/tutorial.ipynb)\n",
    "- [官方文档](https://mujoco.readthedocs.io/en/latest/overview.html)\n",
    "    - 重点参考1：[MJCF编写指南](https://mujoco.readthedocs.io/en/latest/XMLreference.html)\n",
    "    - 重点参考2：[API文档](https://mujoco.readthedocs.io/en/latest/APIreference/index.html)(虽然是C版本的，但是命名方式和python类似，结合jupyter教程可以了解如何使用)\n",
    "- Github仓库和issue (尤其留意issue，因为目前版本迭代非常快，很多新功能被逐步加入)\n",
    "    - [mujoco](https://github.com/deepmind/mujoco)\n",
    "    - [dm_control](https://github.com/deepmind/dm_control)\n",
    "> 注意：一定要区分开源前的教程和开源后的教程！"
   ]
  },
  {
   "attachments": {},
   "cell_type": "markdown",
   "metadata": {},
   "source": [
    "## 最小测试"
   ]
  },
  {
   "cell_type": "code",
   "execution_count": null,
   "metadata": {},
   "outputs": [],
   "source": [
    "# 导入一些便于测试的库\n",
    "import mediapy as media # 渲染图像、视频的显示\n",
    "import numpy as np"
   ]
  },
  {
   "cell_type": "code",
   "execution_count": null,
   "metadata": {},
   "outputs": [],
   "source": [
    "# 第一步：定义MJCF\n",
    "mjcf = \"\"\"\n",
    "<mujoco>\n",
    "  <worldbody>\n",
    "    <light name=\"top\" pos=\"0 0 1\"/>\n",
    "    <body name=\"box_and_sphere\" euler=\"0 0 -30\">\n",
    "      <joint name=\"swing\" type=\"hinge\" axis=\"1 -1 0\" pos=\"-.2 -.2 -.2\"/>\n",
    "      <geom name=\"red_box\" type=\"box\" size=\".2 .2 .2\" rgba=\"1 0 0 1\"/>\n",
    "      <geom name=\"green_sphere\" pos=\".2 .2 .2\" size=\".1\" rgba=\"0 1 0 1\"/>\n",
    "    </body>\n",
    "  </worldbody>\n",
    "</mujoco>\n",
    "\"\"\""
   ]
  },
  {
   "attachments": {},
   "cell_type": "markdown",
   "metadata": {},
   "source": [
    "#### 原生的最小测试"
   ]
  },
  {
   "cell_type": "code",
   "execution_count": null,
   "metadata": {},
   "outputs": [],
   "source": [
    "import mujoco as mjc\n",
    "# 第二步：生成Model和Data，这是Mujoco中最重要的两个结构体，储存了仿真中的各种数据\n",
    "# Model参考：https://mujoco.readthedocs.io/en/latest/APIreference/APItypes.html#mjmodel\n",
    "# Data参考：https://mujoco.readthedocs.io/en/latest/APIreference/APItypes.html#mjdata\n",
    "model = mjc.MjModel.from_xml_string(mjcf)\n",
    "data = mjc.MjData(model)\n",
    "# 第三步：仿真一个步进\n",
    "# 函数参考：https://mujoco.readthedocs.io/en/latest/APIreference/APIfunctions.html#main-simulation\n",
    "# 有mj_step、mj_forward等不同的步进仿真函数，有细微区别，主要是为了根据不同场合避免不必要的计算进而加速仿真\n",
    "mjc.mj_step(model, data)\n",
    "# 第四步：渲染图像，注意，此处开始需要OpenGL>1.5版本的支持\n",
    "renderer = mjc.Renderer(model)\n",
    "renderer.update_scene(data)\n",
    "media.show_image(renderer.render())"
   ]
  },
  {
   "attachments": {},
   "cell_type": "markdown",
   "metadata": {},
   "source": [
    "#### `dm_control`的最小测试"
   ]
  },
  {
   "cell_type": "code",
   "execution_count": null,
   "metadata": {},
   "outputs": [],
   "source": [
    "import dm_control.mujoco as mj\n",
    "# 第二步有所区别\n",
    "physics = mj.Physics.from_xml_string(mjcf)\n",
    "model,data = physics.model,physics.data # model和data隐藏在physics里\n",
    "# 第三步一样，但对于只渲染图像可以省去，第四步不同\n",
    "# media.show_image(physics.render())"
   ]
  },
  {
   "attachments": {},
   "cell_type": "markdown",
   "metadata": {},
   "source": [
    "从最小测试可见，`mujoco`和`dm_control.mujoco`类似但又有所不同：\n",
    "- 从实现而言，`dm_control.mujoco`是`mujoco`的更高层次封装，因此在实际使用时更为简单，并且支持`dm_control`中的一些便捷工具，比如`dm_control.mjcf`这个库\n",
    "- 不足的是目前还没有很好的交互式界面(`dm_control.viewer`只能用于已经设计好的环境，并不支持直接对`model`进行可视化交互)，但`2.3`以后的版本更新的`mujoco.viewer`提供了不错的交互\n",
    "\n",
    "因此，最终确定仿真器以`dm_control.mujoco`为主，可视化交互使用`mujoco.viewer`\n",
    "## 辅助可视化"
   ]
  },
  {
   "attachments": {},
   "cell_type": "markdown",
   "metadata": {},
   "source": [
    "### 视频序列渲染\n",
    "> 注意：视频序列渲染需要支持`ffmpeg`\n",
    "\n",
    "出现错误：`RuntimeError: Requested MovieWriter (ffmpeg) not available`\n",
    "\n",
    "需要安装`ffmpeg`(动画输出)：\n",
    "```\n",
    "conda install -c conda-forge ffmpeg\n",
    "```"
   ]
  },
  {
   "cell_type": "code",
   "execution_count": null,
   "metadata": {},
   "outputs": [],
   "source": [
    "# 为了让视频输出能到更高的分辨率，需要设置视觉全局参数offwidth、offheight\n",
    "# 参考：https://mujoco.readthedocs.io/en/stable/XMLreference.html#visual-global\n",
    "mjcf = \"\"\"\n",
    "<mujoco>\n",
    "  <visual> \n",
    "  <global offwidth=\"1920\" offheight=\"1080\"/>\n",
    "  </visual>\n",
    "  <worldbody>\n",
    "    <light name=\"top\" pos=\"0 0 1\"/>\n",
    "    <body name=\"box_and_sphere\" euler=\"0 0 -30\">\n",
    "      <joint name=\"swing\" type=\"hinge\" axis=\"1 -1 0\" pos=\"-.2 -.2 -.2\"/>\n",
    "      <geom name=\"red_box\" type=\"box\" size=\".2 .2 .2\" rgba=\"1 0 0 1\"/>\n",
    "      <geom name=\"green_sphere\" pos=\".2 .2 .2\" size=\".1\" rgba=\"0 1 0 1\"/>\n",
    "    </body>\n",
    "  </worldbody>\n",
    "</mujoco>\n",
    "\"\"\"\n",
    "def output_video(physics,duration,framerate=30,width=1920,height=1080):\n",
    "  \"\"\"duration时长，framerate帧率，width、height图像宽高，必须小于offwidth、offheight\"\"\"\n",
    "  frames = []\n",
    "  physics.reset()  # Reset state and time\n",
    "  while physics.data.time < duration:\n",
    "    physics.step()\n",
    "    if len(frames) < physics.data.time * framerate:\n",
    "      pixels = physics.render(width=width,height=height)\n",
    "      frames.append(pixels)\n",
    "  return frames\n",
    "  \n",
    "# 生成帧序列\n",
    "duration = 2\n",
    "framerate = 30\n",
    "physics = mj.Physics.from_xml_string(mjcf)\n",
    "frames=output_video(physics,duration,framerate,1920,1080)\n",
    "# 显示\n",
    "media.show_video(frames, fps=framerate)"
   ]
  },
  {
   "attachments": {},
   "cell_type": "markdown",
   "metadata": {},
   "source": [
    "### 交互式GUI\n",
    "在新版本(`>2.3.1`)的`mujoco`中已经集成交互式GUI，但从`dm_control`的`physics`传递过来需要注意\n",
    "- `import`时的不同版本`mujoco`，建议一定用`as`做区分\n",
    "- `physics.model`并不是原生的`model`，而`model.ptr`才是\n",
    "- 必须重新加载模型,因为之前运行过的`mj_step`貌似会导致窗口未响应\n",
    "\n",
    "(希望后期能够合并这个`viewer`,不然还是非常混乱)"
   ]
  },
  {
   "cell_type": "code",
   "execution_count": null,
   "metadata": {},
   "outputs": [],
   "source": [
    "# 注意一定要区分不同的mujoco\n",
    "import mujoco as mjc\n",
    "import mujoco.viewer as mjv\n",
    "physics = mj.Physics.from_xml_string(mjcf)\n",
    "# 注意：physics.model并不是原生的model，而model.ptr才是！！！\n",
    "model,data = physics.model.ptr,physics.data.ptr\n",
    "# 是否传入data决定交互界面中的动作交互会不会影响实际的data结果\n",
    "mjv.launch(model,data)"
   ]
  },
  {
   "cell_type": "code",
   "execution_count": null,
   "metadata": {},
   "outputs": [],
   "source": [
    "# 非阻塞式交互界面(新版本特性,就非常实用了!)\n",
    "mjv.launch_passive(model,data)\n",
    "renderer = mjc.Renderer(model)\n",
    "for i in range(10000):\n",
    "    mj.mj_step(model, data)\n",
    "    # dm_control的操作方式\n",
    "    physics.named.model.geom_size['red_box']=np.array([np.sin(physics.data.time),np.cos(physics.data.time),0.2])\n",
    "    # 原生的操作方式\n",
    "    # model.geom('red_box').size=np.array([np.sin(data.time),np.cos(data.time),0.2])\n",
    "    # 渲染必须用原生的操作\n",
    "    renderer.update_scene(data)\n",
    "    renderer.render()"
   ]
  },
  {
   "attachments": {},
   "cell_type": "markdown",
   "metadata": {},
   "source": [
    "### 辅助图形"
   ]
  },
  {
   "attachments": {},
   "cell_type": "markdown",
   "metadata": {},
   "source": [
    "## MJCF与建模"
   ]
  },
  {
   "attachments": {},
   "cell_type": "markdown",
   "metadata": {},
   "source": [
    "## 相机"
   ]
  },
  {
   "attachments": {},
   "cell_type": "markdown",
   "metadata": {},
   "source": [
    "## 光源"
   ]
  }
 ],
 "metadata": {
  "kernelspec": {
   "display_name": "MOJOCO",
   "language": "python",
   "name": "python3"
  },
  "language_info": {
   "codemirror_mode": {
    "name": "ipython",
    "version": 3
   },
   "file_extension": ".py",
   "mimetype": "text/x-python",
   "name": "python",
   "nbconvert_exporter": "python",
   "pygments_lexer": "ipython3",
   "version": "3.7.13"
  },
  "orig_nbformat": 4
 },
 "nbformat": 4,
 "nbformat_minor": 2
}
